{
 "cells": [
  {
   "cell_type": "code",
   "execution_count": 1,
   "id": "c55a7544-c2b3-4672-8872-01ef985c0814",
   "metadata": {},
   "outputs": [],
   "source": [
    "import bia_bob"
   ]
  },
  {
   "cell_type": "code",
   "execution_count": 2,
   "id": "ef49fe23-0978-4b67-8d35-aae035aee52f",
   "metadata": {},
   "outputs": [],
   "source": [
    "import os\n",
    "\n",
    "# Specify the directory containing Java files\n",
    "directory_path = r\"C:\\structure\\code\\clesperantoj_prototype\\src\\main\\java\\net\\clesperanto\\kernels\"\n",
    "clij3_file_path = \"C:/structure/code/clij3/src/main/java/net/clesperanto/CLIJ3.java\"\n",
    "\n",
    "min_tier = 1\n",
    "max_tier = 8\n",
    "\n"
   ]
  },
  {
   "cell_type": "code",
   "execution_count": null,
   "id": "25f7f9ce-6414-45de-bce3-50e331e77381",
   "metadata": {},
   "outputs": [],
   "source": [
    "\n"
   ]
  },
  {
   "cell_type": "code",
   "execution_count": 3,
   "id": "977e09ce-5666-4003-9e56-a6d0fe9946a3",
   "metadata": {},
   "outputs": [
    {
     "data": {
      "text/plain": [
       "'absolute'"
      ]
     },
     "execution_count": 3,
     "metadata": {},
     "output_type": "execute_result"
    }
   ],
   "source": [
    "line = \"public static ArrayJ absolute(DeviceJ device, ArrayJ input, ArrayJ output)\"\n",
    "\n",
    "def get_function_name(line):\n",
    "    return line.split(\"(\")[0].split(\" \")[-1]\n",
    "get_function_name(line)"
   ]
  },
  {
   "cell_type": "code",
   "execution_count": 4,
   "id": "bde9d1d4-1ef8-4836-83d0-cf9354698cbf",
   "metadata": {},
   "outputs": [
    {
     "data": {
      "text/plain": [
       "'public static ArrayJ'"
      ]
     },
     "execution_count": 4,
     "metadata": {},
     "output_type": "execute_result"
    }
   ],
   "source": [
    "def get_return_type(line):\n",
    "    return \" \".join(line.split(\"(\")[0].split(\" \")[:-1])\n",
    "get_return_type(line)"
   ]
  },
  {
   "cell_type": "code",
   "execution_count": 5,
   "id": "54d3fe2c-575a-46bb-8b26-03bf2f330e21",
   "metadata": {},
   "outputs": [
    {
     "data": {
      "text/plain": [
       "['DeviceJ device', 'ArrayJ input', 'ArrayJ output']"
      ]
     },
     "execution_count": 5,
     "metadata": {},
     "output_type": "execute_result"
    }
   ],
   "source": [
    "def get_parameters(line):\n",
    "    return [f.strip() for f in line.split(\"(\")[1].split(\")\")[0].split(\",\")]\n",
    "\n",
    "get_parameters(line)"
   ]
  },
  {
   "cell_type": "code",
   "execution_count": 6,
   "id": "5e300993-d038-483b-9f63-b2c6e36dda51",
   "metadata": {},
   "outputs": [
    {
     "data": {
      "text/plain": [
       "(['DeviceJ device', 'Object input', 'Object output'],\n",
       " ['device', 'push(input)', 'push(output)'])"
      ]
     },
     "execution_count": 6,
     "metadata": {},
     "output_type": "execute_result"
    }
   ],
   "source": [
    "def make_java_types(list_of_parameters):\n",
    "    definitions = []\n",
    "    calls = []\n",
    "    for p in list_of_parameters:\n",
    "        definition_type = p.split(\" \")[0]\n",
    "        parameter_name = p.split(\" \")[1]\n",
    "        if definition_type == \"ArrayJ\":\n",
    "            definitions.append(\"Object \" + parameter_name)\n",
    "            calls.append(\"push(\" + parameter_name + \")\")\n",
    "        else:\n",
    "            definitions.append(definition_type + \" \" + parameter_name)\n",
    "            calls.append(parameter_name)\n",
    "\n",
    "    return definitions, calls\n",
    "\n",
    "make_java_types(get_parameters(line))"
   ]
  },
  {
   "cell_type": "code",
   "execution_count": 7,
   "id": "59ce90a9-ebd6-4deb-a01f-984a3ecb576f",
   "metadata": {},
   "outputs": [
    {
     "name": "stdout",
     "output_type": "stream",
     "text": [
      "\n",
      "    public ArrayJ absolute (Object input, Object output) {\n",
      "        return Tier1.absolute(device, push(input), push(output));\n",
      "    }\n",
      "\n"
     ]
    }
   ],
   "source": [
    "def function_wrapper(line, tier):\n",
    "    function_name = get_function_name(line)\n",
    "    return_type = get_return_type(line).replace(\"static \", \"\")\n",
    "    parameters = get_parameters(line)\n",
    "\n",
    "    all_but_first_parameters = parameters[1:]\n",
    "\n",
    "    param_definitions, param_values = make_java_types(all_but_first_parameters)\n",
    "\n",
    "    param_definitions = \", \".join(param_definitions)\n",
    "    param_values = \", \".join(param_values)\n",
    "    \n",
    "    return f\"\"\"\n",
    "    {return_type} {function_name} ({param_definitions}) {{\n",
    "        return Tier{tier}.{function_name}(device, {param_values});\n",
    "    }}\n",
    "\"\"\"\n",
    "\n",
    "print(function_wrapper(line, 1))"
   ]
  },
  {
   "cell_type": "code",
   "execution_count": 8,
   "id": "b8d43ed0-93e7-4815-bbb0-3c9e0b348cc8",
   "metadata": {},
   "outputs": [],
   "source": [
    "output = \"\"\n",
    "for tier in range(min_tier, max_tier + 1):\n",
    "    file_path = os.path.join(directory_path, f\"Tier{tier}.java\")\n",
    "    with open(file_path, 'r') as file:\n",
    "        content = file.read()\n",
    "\n",
    "        # List to store lines starting with \"public static \"\n",
    "        matching_lines = []\n",
    "        \n",
    "        # Process each line\n",
    "        for line in content.splitlines():\n",
    "            stripped_line = line.lstrip()  # Remove leading spaces\n",
    "            if stripped_line.startswith(\"public static \"):\n",
    "                matching_lines.append(stripped_line)\n",
    "\n",
    "        for line in matching_lines:\n",
    "            output = output + function_wrapper(line, tier)"
   ]
  },
  {
   "cell_type": "code",
   "execution_count": 9,
   "id": "2baff9bb-b7c2-4fc2-ad27-697cda36e653",
   "metadata": {},
   "outputs": [
    {
     "name": "stdout",
     "output_type": "stream",
     "text": [
      "C:/structure/code/clij3/src/main/java/net/clesperanto/CLIJ3.java\n"
     ]
    }
   ],
   "source": [
    "print(clij3_file_path)\n",
    "\n",
    "# Read the content of the file\n",
    "with open(clij3_file_path, 'r') as file:\n",
    "    content = file.readlines()\n"
   ]
  },
  {
   "cell_type": "code",
   "execution_count": 10,
   "id": "5640c95f-c5fb-4993-a725-85c0b8cd3712",
   "metadata": {},
   "outputs": [
    {
     "name": "stdout",
     "output_type": "stream",
     "text": [
      "147 1056\n"
     ]
    }
   ],
   "source": [
    "# Find the start and end indices of the block\n",
    "start_index = None\n",
    "end_index = None\n",
    "start_marker = \"/* BEGIN AUTO-GENERATED FUNCTIONS */\"\n",
    "end_marker = \"/* END AUTO-GENERATED FUNCTIONS */\"\n",
    "\n",
    "for i, line in enumerate(content):\n",
    "    if start_marker in line:\n",
    "        start_index = i\n",
    "    elif end_marker in line:\n",
    "        end_index = i\n",
    "        break\n",
    "\n",
    "print (start_index, end_index)\n",
    "\n",
    "# Replace the block\n",
    "if start_index is not None and end_index is not None:\n",
    "    updated_content = content[:start_index + 1] + [output] + content[end_index:]\n",
    "    \n",
    "    # Write the modified content back to the file\n",
    "    with open(clij3_file_path, 'w') as file:\n",
    "        file.writelines(updated_content)"
   ]
  },
  {
   "cell_type": "code",
   "execution_count": null,
   "id": "6fa9eaaf-fe62-40fd-a989-0711fc28b0b7",
   "metadata": {},
   "outputs": [],
   "source": []
  },
  {
   "cell_type": "code",
   "execution_count": null,
   "id": "60cf965e-60e4-4bf0-87e4-b91510d36e05",
   "metadata": {},
   "outputs": [],
   "source": []
  }
 ],
 "metadata": {
  "kernelspec": {
   "display_name": "Python 3 (ipykernel)",
   "language": "python",
   "name": "python3"
  },
  "language_info": {
   "codemirror_mode": {
    "name": "ipython",
    "version": 3
   },
   "file_extension": ".py",
   "mimetype": "text/x-python",
   "name": "python",
   "nbconvert_exporter": "python",
   "pygments_lexer": "ipython3",
   "version": "3.11.9"
  }
 },
 "nbformat": 4,
 "nbformat_minor": 5
}
