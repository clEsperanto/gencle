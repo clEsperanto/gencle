{
 "cells": [
  {
   "cell_type": "code",
   "execution_count": 1,
   "metadata": {},
   "outputs": [],
   "source": [
    "import gencle as gen\n",
    "import glob, os, re"
   ]
  },
  {
   "cell_type": "markdown",
   "metadata": {},
   "source": [
    "# Auto-generation of Pyclesperanto Tiers from local file\n",
    "\n",
    "This Notebook, using the `gencle`, will fetch all the tiers file from a `CLIc` local repository, parse the doxygen blocks and generate both the wrapper and python code.\n",
    "The generated code can then be saved in a `pyclesperanto` local repository."
   ]
  },
  {
   "cell_type": "code",
   "execution_count": 2,
   "metadata": {},
   "outputs": [],
   "source": [
    "# clesperantoj_native_path = '/data/clesperanto/clesperantoj_prototype/native/clesperantoj'\n",
    "clesperantoj_native_path = './toto/'\n",
    "\n",
    "tier_list = [1, 2, 3, 4, 5, 6, 7, 8]"
   ]
  },
  {
   "cell_type": "markdown",
   "metadata": {},
   "source": [
    "### Search and read `tier*.hpp` files from `CLIc` online repo"
   ]
  },
  {
   "cell_type": "code",
   "execution_count": 3,
   "metadata": {},
   "outputs": [
    {
     "name": "stdout",
     "output_type": "stream",
     "text": [
      "Found 8 tier codes online\n"
     ]
    }
   ],
   "source": [
    "codes = [gen.read_tier_from_github(tier, branch='0.11.1') for tier in tier_list]\n",
    "print(f\"Found {len(codes)} tier codes online\")"
   ]
  },
  {
   "cell_type": "markdown",
   "metadata": {},
   "source": [
    "## Generate the header file and a code file per tier"
   ]
  },
  {
   "cell_type": "code",
   "execution_count": 4,
   "metadata": {},
   "outputs": [],
   "source": [
    "header_folder = f'{clesperantoj_native_path}/include'\n",
    "code_folder = f'{clesperantoj_native_path}/src'\n",
    "header_file = []\n",
    "for idx, tier in zip(tier_list, codes):\n",
    "    functions_json = gen.parse_doxygen_to_json(tier)\n",
    "    header, code = gen.generate_native_tier_code(idx, functions_json)\n",
    "    gen.write_file(f'./{code_folder}/tier{idx}.cpp', code, overwrite=True )\n",
    "    header_file.append(header)\n",
    "header_file = gen.merger_header(header_file)\n",
    "gen.write_file(f'./{header_folder}/kernel.hpp', header_file, overwrite=True )"
   ]
  },
  {
   "cell_type": "code",
   "execution_count": 5,
   "metadata": {},
   "outputs": [],
   "source": [
    "java_folder = f'{clesperantoj_native_path}/kernels'\n",
    "for idx, tier in zip(tier_list, codes):\n",
    "    functions_json = gen.parse_doxygen_to_json(tier)\n",
    "    java_tier = gen._generate_java_class(1, functions_json)\n",
    "    gen.write_file(f'./{java_folder}/Tier{idx}.java', java_tier, overwrite=True )"
   ]
  }
 ],
 "metadata": {
  "kernelspec": {
   "display_name": "parser",
   "language": "python",
   "name": "python3"
  },
  "language_info": {
   "codemirror_mode": {
    "name": "ipython",
    "version": 3
   },
   "file_extension": ".py",
   "mimetype": "text/x-python",
   "name": "python",
   "nbconvert_exporter": "python",
   "pygments_lexer": "ipython3",
   "version": "3.12.1"
  }
 },
 "nbformat": 4,
 "nbformat_minor": 2
}
