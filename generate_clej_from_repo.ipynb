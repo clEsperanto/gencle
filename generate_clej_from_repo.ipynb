{
 "cells": [
  {
   "cell_type": "code",
   "execution_count": 1,
   "metadata": {},
   "outputs": [],
   "source": [
    "import gencle as gen\n",
    "import glob, os, re"
   ]
  },
  {
   "cell_type": "markdown",
   "metadata": {},
   "source": []
  },
  {
   "cell_type": "markdown",
   "metadata": {},
   "source": [
    "# Auto-generation of Pyclesperanto Tiers from local file\n",
    "\n",
    "This Notebook, using the `gencle`, will fetch all the tiers file from a `CLIc` local repository, parse the doxygen blocks and generate both the wrapper and python code.\n",
    "The generated code can then be saved in a `pyclesperanto` local repository."
   ]
  },
  {
   "cell_type": "code",
   "execution_count": 2,
   "metadata": {},
   "outputs": [],
   "source": [
    "# clesperantoj_native_path = '/data/clesperanto/clesperantoj_prototype'\n",
    "clesperantoj_native_path = './toto/'\n",
    "\n",
    "tier_list = [1, 2, 3, 4, 5, 6, 7, 8]"
   ]
  },
  {
   "cell_type": "markdown",
   "metadata": {},
   "source": [
    "### Search and read `tier*.hpp` files from `CLIc` online repo"
   ]
  },
  {
   "cell_type": "code",
   "execution_count": 3,
   "metadata": {},
   "outputs": [
    {
     "name": "stdout",
     "output_type": "stream",
     "text": [
      "Found 8 tier codes online\n"
     ]
    }
   ],
   "source": [
    "codes = [gen.read_tier_from_github(tier, branch='master') for tier in tier_list]\n",
    "print(f\"Found {len(codes)} tier codes online\")"
   ]
  },
  {
   "cell_type": "markdown",
   "metadata": {},
   "source": [
    "## Generate the header file and a code file per tier"
   ]
  },
  {
   "cell_type": "code",
   "execution_count": 4,
   "metadata": {},
   "outputs": [],
   "source": [
    "header_folder = f'{clesperantoj_native_path}/native/clesperantoj/include'\n",
    "code_folder = f'{clesperantoj_native_path}/native/clesperantoj/src'\n",
    "header_file = []\n",
    "for idx, tier in zip(tier_list, codes):\n",
    "    functions_json = gen.parse_doxygen_to_json(tier)\n",
    "    header, code = gen.generate_native_tier_code(idx, functions_json)\n",
    "    gen.write_file(f'{code_folder}/tier{idx}j.cpp', code, overwrite=True )\n",
    "    header_file.append(header)\n",
    "header_file = gen.merger_classes_in_header(header_file)\n",
    "gen.write_file(f'{header_folder}/kernelj.hpp', header_file, overwrite=True )"
   ]
  },
  {
   "cell_type": "code",
   "execution_count": 5,
   "metadata": {},
   "outputs": [],
   "source": [
    "java_folder = f'{clesperantoj_native_path}/src/main/java/net/clesperanto/kernels'\n",
    "for idx, tier in zip(tier_list, codes):\n",
    "    functions_json = gen.parse_doxygen_to_json(tier)\n",
    "    java_tier = gen.generate_java_class(idx, functions_json)\n",
    "    gen.write_file(f'{java_folder}/Tier{idx}.java', java_tier, overwrite=True )"
   ]
  },
  {
   "cell_type": "code",
   "execution_count": 6,
   "metadata": {},
   "outputs": [
    {
     "name": "stdout",
     "output_type": "stream",
     "text": [
      "\n",
      "\t/**\n",
      "\t * Apply an affine transformation matrix to an array and return the result.\n",
      "\t * The transformation matrix must be 3x3 or 4x4 stored as a 1D array.\n",
      "\t * The matrix should be row-major, i.\n",
      "\t * e.\n",
      "\t * the first 3 elements are the first row of the matrix.\n",
      "\t * If no matrix is given, the identity matrix will be used.\n",
      "\t * @param device ({@link DeviceJ}) - Device to perform the operation on.\n",
      "\t * @param input ({@link ArrayJ}) - Input Array to be transformed.\n",
      "\t * @param output ({@link ArrayJ}) - Output Array. (default: None)\n",
      "\t * @param transform_matrix (ArrayList<Float>) - Affine transformation matrix (3x3 or 4x4). (default: None)\n",
      "\t * @param interpolate (bool) - If true, bi/trilinear interpolation will be applied, if hardware allows. (default: False)\n",
      "\t * @param resize (bool) - Automatically determines the size of the output depending on the rotation angles. (default: False)\n",
      "\t * @return {@link ArrayJ}\n",
      "\t * @throws NullPointerException if any of the device or input parameters are null.\n",
      "\t */\n"
     ]
    }
   ],
   "source": [
    "functions_json = gen.parse_doxygen_to_json(codes[6])\n",
    "# print(functions_json[0])\n",
    "doc = gen._generate_java_docstring(functions_json[0])\n",
    "print(doc)"
   ]
  },
  {
   "cell_type": "code",
   "execution_count": null,
   "metadata": {},
   "outputs": [],
   "source": []
  }
 ],
 "metadata": {
  "kernelspec": {
   "display_name": "parser",
   "language": "python",
   "name": "python3"
  },
  "language_info": {
   "codemirror_mode": {
    "name": "ipython",
    "version": 3
   },
   "file_extension": ".py",
   "mimetype": "text/x-python",
   "name": "python",
   "nbconvert_exporter": "python",
   "pygments_lexer": "ipython3",
   "version": "3.12.1"
  }
 },
 "nbformat": 4,
 "nbformat_minor": 2
}
