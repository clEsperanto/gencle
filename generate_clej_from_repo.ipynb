{
 "cells": [
  {
   "cell_type": "code",
   "execution_count": 1,
   "metadata": {},
   "outputs": [],
   "source": [
    "import gencle as gen\n",
    "import glob, os, re"
   ]
  },
  {
   "cell_type": "markdown",
   "metadata": {},
   "source": []
  },
  {
   "cell_type": "markdown",
   "metadata": {},
   "source": [
    "# Auto-generation of Pyclesperanto Tiers from local file\n",
    "\n",
    "This Notebook, using the `gencle`, will fetch all the tiers file from a `CLIc` local repository, parse the doxygen blocks and generate both the wrapper and python code.\n",
    "The generated code can then be saved in a `pyclesperanto` local repository."
   ]
  },
  {
   "cell_type": "code",
   "execution_count": 2,
   "metadata": {},
   "outputs": [],
   "source": [
    "# clesperantoj_native_path = '/data/clesperanto/clesperantoj_prototype'\n",
    "clesperantoj_native_path = './toto/'\n",
    "\n",
    "tier_list = [1, 2, 3, 4, 5, 6, 7, 8]"
   ]
  },
  {
   "cell_type": "markdown",
   "metadata": {},
   "source": [
    "### Search and read `tier*.hpp` files from `CLIc` online repo"
   ]
  },
  {
   "cell_type": "code",
   "execution_count": 3,
   "metadata": {},
   "outputs": [
    {
     "name": "stdout",
     "output_type": "stream",
     "text": [
      "Found 8 tier codes online\n"
     ]
    }
   ],
   "source": [
    "codes = [gen.read_tier_from_github(tier, branch='master') for tier in tier_list]\n",
    "print(f\"Found {len(codes)} tier codes online\")"
   ]
  },
  {
   "cell_type": "markdown",
   "metadata": {},
   "source": [
    "## Generate the header file and a code file per tier"
   ]
  },
  {
   "cell_type": "code",
   "execution_count": 4,
   "metadata": {},
   "outputs": [],
   "source": [
    "header_folder = f'{clesperantoj_native_path}/native/clesperantoj/include'\n",
    "code_folder = f'{clesperantoj_native_path}/native/clesperantoj/src'\n",
    "header_file = []\n",
    "for idx, tier in zip(tier_list, codes):\n",
    "    functions_json = gen.parse_doxygen_to_json(tier)\n",
    "    header, code = gen.generate_native_tier_code(idx, functions_json)\n",
    "    gen.write_file(f'{code_folder}/tier{idx}j.cpp', code, overwrite=True )\n",
    "    header_file.append(header)\n",
    "header_file = gen.merger_classes_in_header(header_file)\n",
    "gen.write_file(f'{header_folder}/kernelj.hpp', header_file, overwrite=True )"
   ]
  },
  {
   "cell_type": "code",
   "execution_count": 5,
   "metadata": {},
   "outputs": [
    {
     "ename": "AttributeError",
     "evalue": "module 'gencle' has no attribute '_generate_java_class'",
     "output_type": "error",
     "traceback": [
      "\u001b[0;31m---------------------------------------------------------------------------\u001b[0m",
      "\u001b[0;31mAttributeError\u001b[0m                            Traceback (most recent call last)",
      "Cell \u001b[0;32mIn[5], line 4\u001b[0m\n\u001b[1;32m      2\u001b[0m \u001b[38;5;28;01mfor\u001b[39;00m idx, tier \u001b[38;5;129;01min\u001b[39;00m \u001b[38;5;28mzip\u001b[39m(tier_list, codes):\n\u001b[1;32m      3\u001b[0m     functions_json \u001b[38;5;241m=\u001b[39m gen\u001b[38;5;241m.\u001b[39mparse_doxygen_to_json(tier)\n\u001b[0;32m----> 4\u001b[0m     java_tier \u001b[38;5;241m=\u001b[39m \u001b[43mgen\u001b[49m\u001b[38;5;241;43m.\u001b[39;49m\u001b[43m_generate_java_class\u001b[49m(idx, functions_json)\n\u001b[1;32m      5\u001b[0m     gen\u001b[38;5;241m.\u001b[39mwrite_file(\u001b[38;5;124mf\u001b[39m\u001b[38;5;124m'\u001b[39m\u001b[38;5;132;01m{\u001b[39;00mjava_folder\u001b[38;5;132;01m}\u001b[39;00m\u001b[38;5;124m/Tier\u001b[39m\u001b[38;5;132;01m{\u001b[39;00midx\u001b[38;5;132;01m}\u001b[39;00m\u001b[38;5;124m.java\u001b[39m\u001b[38;5;124m'\u001b[39m, java_tier, overwrite\u001b[38;5;241m=\u001b[39m\u001b[38;5;28;01mTrue\u001b[39;00m )\n",
      "\u001b[0;31mAttributeError\u001b[0m: module 'gencle' has no attribute '_generate_java_class'"
     ]
    }
   ],
   "source": [
    "java_folder = f'{clesperantoj_native_path}/src/main/java/net/clesperanto/kernels'\n",
    "for idx, tier in zip(tier_list, codes):\n",
    "    functions_json = gen.parse_doxygen_to_json(tier)\n",
    "    java_tier = gen.generate_java_class(idx, functions_json)\n",
    "    gen.write_file(f'{java_folder}/Tier{idx}.java', java_tier, overwrite=True )"
   ]
  }
 ],
 "metadata": {
  "kernelspec": {
   "display_name": "parser",
   "language": "python",
   "name": "python3"
  },
  "language_info": {
   "codemirror_mode": {
    "name": "ipython",
    "version": 3
   },
   "file_extension": ".py",
   "mimetype": "text/x-python",
   "name": "python",
   "nbconvert_exporter": "python",
   "pygments_lexer": "ipython3",
   "version": "3.12.1"
  }
 },
 "nbformat": 4,
 "nbformat_minor": 2
}
