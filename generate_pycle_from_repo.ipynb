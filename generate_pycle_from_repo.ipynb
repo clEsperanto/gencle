{
 "cells": [
  {
   "cell_type": "code",
   "execution_count": 1,
   "metadata": {},
   "outputs": [],
   "source": [
    "import gencle as gen\n",
    "import glob, os, re"
   ]
  },
  {
   "cell_type": "markdown",
   "metadata": {},
   "source": [
    "# Auto-generation of Pyclesperanto Tiers from local file\n",
    "\n",
    "This Notebook, using the `gencle`, will fetch all the tiers file from a `CLIc` local repository, parse the doxygen blocks and generate both the wrapper and python code.\n",
    "The generated code can then be saved in a `pyclesperanto` local repository."
   ]
  },
  {
   "cell_type": "code",
   "execution_count": 2,
   "metadata": {},
   "outputs": [],
   "source": [
    "pyclesperanto_path = '/data/clesperanto/pyclesperanto'\n",
    "tier_list = [1, 2, 3, 4, 5, 6, 7, 8]"
   ]
  },
  {
   "cell_type": "markdown",
   "metadata": {},
   "source": [
    "### Search and read `tier*.hpp` files from `CLIc` online repo"
   ]
  },
  {
   "cell_type": "code",
   "execution_count": 3,
   "metadata": {},
   "outputs": [
    {
     "name": "stdout",
     "output_type": "stream",
     "text": [
      "Found 8 tier codes online\n"
     ]
    }
   ],
   "source": [
    "codes = [gen.read_tier_from_github(tier, branch='0.11.0') for tier in tier_list]\n",
    "print(f\"Found {len(codes)} tier codes online\")"
   ]
  },
  {
   "cell_type": "markdown",
   "metadata": {},
   "source": [
    "### For each `tier`, extract the doxygen block and generate wrapper & python code"
   ]
  },
  {
   "cell_type": "code",
   "execution_count": 4,
   "metadata": {},
   "outputs": [
    {
     "name": "stdout",
     "output_type": "stream",
     "text": [
      "Generating tier 1\n",
      "Generating tier 2\n",
      "Generating tier 3\n",
      "Generating tier 4\n",
      "Generating tier 5\n",
      "Generating tier 6\n",
      "Generating tier 7\n",
      "Generating tier 8\n"
     ]
    }
   ],
   "source": [
    "wrapper_folder = f'{pyclesperanto_path}/src/wrapper'\n",
    "python_folder = f'{pyclesperanto_path}/pyclesperanto'\n",
    "for idx, tier in zip(tier_list, codes):\n",
    "    print(f\"Generating tier {idx}\")\n",
    "    functions_json = gen.parse_doxygen_to_json(tier)\n",
    "    wrapper_code = gen.generate_wrapper_code(idx, functions_json)\n",
    "    python_code = gen.generate_python_code(idx, functions_json)\n",
    "    gen.write_file(f'{wrapper_folder}/tier{idx}_.cpp', wrapper_code, overwrite=True )\n",
    "    gen.write_file(f'{python_folder}/_tier{idx}.py', python_code, overwrite=True )"
   ]
  },
  {
   "cell_type": "code",
   "execution_count": null,
   "metadata": {},
   "outputs": [],
   "source": []
  }
 ],
 "metadata": {
  "kernelspec": {
   "display_name": "parser",
   "language": "python",
   "name": "python3"
  },
  "language_info": {
   "codemirror_mode": {
    "name": "ipython",
    "version": 3
   },
   "file_extension": ".py",
   "mimetype": "text/x-python",
   "name": "python",
   "nbconvert_exporter": "python",
   "pygments_lexer": "ipython3",
   "version": "3.12.1"
  }
 },
 "nbformat": 4,
 "nbformat_minor": 2
}
