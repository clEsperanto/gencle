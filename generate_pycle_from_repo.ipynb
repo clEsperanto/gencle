{
 "cells": [
  {
   "cell_type": "code",
   "execution_count": 4,
   "metadata": {},
   "outputs": [],
   "source": [
    "import gencle as gen\n",
    "import glob, os, re"
   ]
  },
  {
   "cell_type": "markdown",
   "metadata": {},
   "source": [
    "# Auto-generation of Pyclesperanto Tiers from local file\n",
    "\n",
    "This Notebook, using the `gencle`, will fetch all the tiers file from a `CLIc` local repository, parse the doxygen blocks and generate both the wrapper and python code.\n",
    "The generated code can then be saved in a `pyclesperanto` local repository."
   ]
  },
  {
   "cell_type": "code",
   "execution_count": 5,
   "metadata": {},
   "outputs": [],
   "source": [
    "pyclesperanto_path = '/data/clesperanto/genpy_ol'\n",
    "tier_list = [1, 2, 3, 4, 5, 6, 7]"
   ]
  },
  {
   "cell_type": "markdown",
   "metadata": {},
   "source": [
    "### Search and read `tier*.hpp` files from `CLIc` online repo"
   ]
  },
  {
   "cell_type": "code",
   "execution_count": 6,
   "metadata": {},
   "outputs": [
    {
     "name": "stdout",
     "output_type": "stream",
     "text": [
      "Found 7 tier codes online\n"
     ]
    }
   ],
   "source": [
    "codes = [gen.read_tier_from_github(tier, branch='master') for tier in tier_list]\n",
    "print(f\"Found {len(codes)} tier codes online\")"
   ]
  },
  {
   "cell_type": "markdown",
   "metadata": {},
   "source": [
    "### For each `tier`, extract the doxygen block and generate wrapper & python code"
   ]
  },
  {
   "cell_type": "code",
   "execution_count": 7,
   "metadata": {},
   "outputs": [
    {
     "name": "stdout",
     "output_type": "stream",
     "text": [
      "Generating tier 1\n"
     ]
    },
    {
     "ename": "IndexError",
     "evalue": "list index out of range",
     "output_type": "error",
     "traceback": [
      "\u001b[0;31m---------------------------------------------------------------------------\u001b[0m",
      "\u001b[0;31mIndexError\u001b[0m                                Traceback (most recent call last)",
      "Cell \u001b[0;32mIn[7], line 5\u001b[0m\n\u001b[1;32m      3\u001b[0m \u001b[38;5;28;01mfor\u001b[39;00m idx, tier \u001b[38;5;129;01min\u001b[39;00m \u001b[38;5;28mzip\u001b[39m(tier_list, codes):\n\u001b[1;32m      4\u001b[0m     \u001b[38;5;28mprint\u001b[39m(\u001b[38;5;124mf\u001b[39m\u001b[38;5;124m\"\u001b[39m\u001b[38;5;124mGenerating tier \u001b[39m\u001b[38;5;132;01m{\u001b[39;00midx\u001b[38;5;132;01m}\u001b[39;00m\u001b[38;5;124m\"\u001b[39m)\n\u001b[0;32m----> 5\u001b[0m     functions_json \u001b[38;5;241m=\u001b[39m \u001b[43mgen\u001b[49m\u001b[38;5;241;43m.\u001b[39;49m\u001b[43mparse_doxygen_to_json\u001b[49m\u001b[43m(\u001b[49m\u001b[43mtier\u001b[49m\u001b[43m)\u001b[49m\n\u001b[1;32m      6\u001b[0m     wrapper_code \u001b[38;5;241m=\u001b[39m gen\u001b[38;5;241m.\u001b[39mgenerate_wrapper_code(idx, functions_json)\n\u001b[1;32m      7\u001b[0m     python_code \u001b[38;5;241m=\u001b[39m gen\u001b[38;5;241m.\u001b[39mgenerate_python_code(idx, functions_json)\n",
      "File \u001b[0;32m/data/clesperanto/gencle/gencle/_doxygen.py:112\u001b[0m, in \u001b[0;36mparse_doxygen_to_json\u001b[0;34m(code)\u001b[0m\n\u001b[1;32m     99\u001b[0m \u001b[38;5;250m\u001b[39m\u001b[38;5;124;03m\"\"\"Parse doxygen blocks to json dict format.\u001b[39;00m\n\u001b[1;32m    100\u001b[0m \n\u001b[1;32m    101\u001b[0m \u001b[38;5;124;03mParameters\u001b[39;00m\n\u001b[0;32m   (...)\u001b[0m\n\u001b[1;32m    109\u001b[0m \u001b[38;5;124;03m    List of parsed doxygen blocks.\u001b[39;00m\n\u001b[1;32m    110\u001b[0m \u001b[38;5;124;03m\"\"\"\u001b[39;00m\n\u001b[1;32m    111\u001b[0m blocks \u001b[38;5;241m=\u001b[39m _extract_doxygen_blocks(code)\n\u001b[0;32m--> 112\u001b[0m \u001b[38;5;28;01mreturn\u001b[39;00m \u001b[43m[\u001b[49m\u001b[43m_read_doxygen_block\u001b[49m\u001b[43m(\u001b[49m\u001b[43mb\u001b[49m\u001b[43m)\u001b[49m\u001b[43m \u001b[49m\u001b[38;5;28;43;01mfor\u001b[39;49;00m\u001b[43m \u001b[49m\u001b[43mb\u001b[49m\u001b[43m \u001b[49m\u001b[38;5;129;43;01min\u001b[39;49;00m\u001b[43m \u001b[49m\u001b[43mblocks\u001b[49m\u001b[43m]\u001b[49m\n",
      "File \u001b[0;32m/data/clesperanto/gencle/gencle/_doxygen.py:112\u001b[0m, in \u001b[0;36m<listcomp>\u001b[0;34m(.0)\u001b[0m\n\u001b[1;32m     99\u001b[0m \u001b[38;5;250m\u001b[39m\u001b[38;5;124;03m\"\"\"Parse doxygen blocks to json dict format.\u001b[39;00m\n\u001b[1;32m    100\u001b[0m \n\u001b[1;32m    101\u001b[0m \u001b[38;5;124;03mParameters\u001b[39;00m\n\u001b[0;32m   (...)\u001b[0m\n\u001b[1;32m    109\u001b[0m \u001b[38;5;124;03m    List of parsed doxygen blocks.\u001b[39;00m\n\u001b[1;32m    110\u001b[0m \u001b[38;5;124;03m\"\"\"\u001b[39;00m\n\u001b[1;32m    111\u001b[0m blocks \u001b[38;5;241m=\u001b[39m _extract_doxygen_blocks(code)\n\u001b[0;32m--> 112\u001b[0m \u001b[38;5;28;01mreturn\u001b[39;00m [\u001b[43m_read_doxygen_block\u001b[49m\u001b[43m(\u001b[49m\u001b[43mb\u001b[49m\u001b[43m)\u001b[49m \u001b[38;5;28;01mfor\u001b[39;00m b \u001b[38;5;129;01min\u001b[39;00m blocks]\n",
      "File \u001b[0;32m/data/clesperanto/gencle/gencle/_doxygen.py:65\u001b[0m, in \u001b[0;36m_read_doxygen_block\u001b[0;34m(block)\u001b[0m\n\u001b[1;32m     63\u001b[0m \u001b[38;5;66;03m# get the @param tag\u001b[39;00m\n\u001b[1;32m     64\u001b[0m params \u001b[38;5;241m=\u001b[39m re\u001b[38;5;241m.\u001b[39mfindall(\u001b[38;5;124mr\u001b[39m\u001b[38;5;124m\"\u001b[39m\u001b[38;5;124m@param\u001b[39m\u001b[38;5;124m\\\u001b[39m\u001b[38;5;124ms+(.*)\u001b[39m\u001b[38;5;124m\"\u001b[39m, block)\n\u001b[0;32m---> 65\u001b[0m params_list \u001b[38;5;241m=\u001b[39m \u001b[43m[\u001b[49m\u001b[43m_parse_param_tag\u001b[49m\u001b[43m(\u001b[49m\u001b[43mp\u001b[49m\u001b[43m)\u001b[49m\u001b[43m \u001b[49m\u001b[38;5;28;43;01mfor\u001b[39;49;00m\u001b[43m \u001b[49m\u001b[43mp\u001b[49m\u001b[43m \u001b[49m\u001b[38;5;129;43;01min\u001b[39;49;00m\u001b[43m \u001b[49m\u001b[43mparams\u001b[49m\u001b[43m]\u001b[49m\n\u001b[1;32m     67\u001b[0m \u001b[38;5;66;03m# get the string staring with @brief and ending with @param or @return\u001b[39;00m\n\u001b[1;32m     68\u001b[0m briefs \u001b[38;5;241m=\u001b[39m re\u001b[38;5;241m.\u001b[39mfindall(\u001b[38;5;124mr\u001b[39m\u001b[38;5;124m\"\u001b[39m\u001b[38;5;124m@brief(.*?)@param\u001b[39m\u001b[38;5;124m\"\u001b[39m, block, re\u001b[38;5;241m.\u001b[39mDOTALL) \u001b[38;5;66;03m# [0].replace(\"\\n *\", \"\").strip()]\u001b[39;00m\n",
      "File \u001b[0;32m/data/clesperanto/gencle/gencle/_doxygen.py:65\u001b[0m, in \u001b[0;36m<listcomp>\u001b[0;34m(.0)\u001b[0m\n\u001b[1;32m     63\u001b[0m \u001b[38;5;66;03m# get the @param tag\u001b[39;00m\n\u001b[1;32m     64\u001b[0m params \u001b[38;5;241m=\u001b[39m re\u001b[38;5;241m.\u001b[39mfindall(\u001b[38;5;124mr\u001b[39m\u001b[38;5;124m\"\u001b[39m\u001b[38;5;124m@param\u001b[39m\u001b[38;5;124m\\\u001b[39m\u001b[38;5;124ms+(.*)\u001b[39m\u001b[38;5;124m\"\u001b[39m, block)\n\u001b[0;32m---> 65\u001b[0m params_list \u001b[38;5;241m=\u001b[39m [\u001b[43m_parse_param_tag\u001b[49m\u001b[43m(\u001b[49m\u001b[43mp\u001b[49m\u001b[43m)\u001b[49m \u001b[38;5;28;01mfor\u001b[39;00m p \u001b[38;5;129;01min\u001b[39;00m params]\n\u001b[1;32m     67\u001b[0m \u001b[38;5;66;03m# get the string staring with @brief and ending with @param or @return\u001b[39;00m\n\u001b[1;32m     68\u001b[0m briefs \u001b[38;5;241m=\u001b[39m re\u001b[38;5;241m.\u001b[39mfindall(\u001b[38;5;124mr\u001b[39m\u001b[38;5;124m\"\u001b[39m\u001b[38;5;124m@brief(.*?)@param\u001b[39m\u001b[38;5;124m\"\u001b[39m, block, re\u001b[38;5;241m.\u001b[39mDOTALL) \u001b[38;5;66;03m# [0].replace(\"\\n *\", \"\").strip()]\u001b[39;00m\n",
      "File \u001b[0;32m/data/clesperanto/gencle/gencle/_doxygen.py:23\u001b[0m, in \u001b[0;36m_parse_param_tag\u001b[0;34m(line)\u001b[0m\n\u001b[1;32m     20\u001b[0m description \u001b[38;5;241m=\u001b[39m line\u001b[38;5;241m.\u001b[39msplit(\u001b[38;5;124m'\u001b[39m\u001b[38;5;124m[\u001b[39m\u001b[38;5;124m'\u001b[39m)[\u001b[38;5;241m0\u001b[39m]\u001b[38;5;241m.\u001b[39msplit(name)[\u001b[38;5;241m1\u001b[39m]\u001b[38;5;241m.\u001b[39mstrip()\n\u001b[1;32m     22\u001b[0m \u001b[38;5;66;03m# extract the string between the brackets in the line (if any)\u001b[39;00m\n\u001b[0;32m---> 23\u001b[0m info \u001b[38;5;241m=\u001b[39m \u001b[43mline\u001b[49m\u001b[38;5;241;43m.\u001b[39;49m\u001b[43msplit\u001b[49m\u001b[43m(\u001b[49m\u001b[38;5;124;43m'\u001b[39;49m\u001b[38;5;124;43m[\u001b[39;49m\u001b[38;5;124;43m'\u001b[39;49m\u001b[43m)\u001b[49m\u001b[43m[\u001b[49m\u001b[38;5;241;43m1\u001b[39;49m\u001b[43m]\u001b[49m\n\u001b[1;32m     24\u001b[0m info \u001b[38;5;241m=\u001b[39m info\u001b[38;5;241m.\u001b[39msplit(\u001b[38;5;124m'\u001b[39m\u001b[38;5;124m]\u001b[39m\u001b[38;5;124m'\u001b[39m)[\u001b[38;5;241m0\u001b[39m]\n\u001b[1;32m     26\u001b[0m \u001b[38;5;66;03m# default value is in between parenthesis\u001b[39;00m\n",
      "\u001b[0;31mIndexError\u001b[0m: list index out of range"
     ]
    }
   ],
   "source": [
    "wrapper_folder = f'{pyclesperanto_path}/src/wrapper'\n",
    "python_folder = f'{pyclesperanto_path}/pyclesperanto'\n",
    "for idx, tier in zip(tier_list, codes):\n",
    "    print(f\"Generating tier {idx}\")\n",
    "    functions_json = gen.parse_doxygen_to_json(tier)\n",
    "    wrapper_code = gen.generate_wrapper_code(idx, functions_json)\n",
    "    python_code = gen.generate_python_code(idx, functions_json)\n",
    "    gen.write_file(f'{wrapper_folder}/tier{idx}_.cpp', wrapper_code )\n",
    "    gen.write_file(f'{python_folder}/_tier{idx}.py', python_code)"
   ]
  },
  {
   "cell_type": "code",
   "execution_count": null,
   "metadata": {},
   "outputs": [],
   "source": []
  }
 ],
 "metadata": {
  "kernelspec": {
   "display_name": "parser",
   "language": "python",
   "name": "python3"
  },
  "language_info": {
   "codemirror_mode": {
    "name": "ipython",
    "version": 3
   },
   "file_extension": ".py",
   "mimetype": "text/x-python",
   "name": "python",
   "nbconvert_exporter": "python",
   "pygments_lexer": "ipython3",
   "version": "3.11.7"
  }
 },
 "nbformat": 4,
 "nbformat_minor": 2
}
