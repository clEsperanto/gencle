{
 "cells": [
  {
   "cell_type": "code",
   "execution_count": 1,
   "metadata": {},
   "outputs": [],
   "source": [
    "import gencle as gen\n",
    "import glob, os, re"
   ]
  },
  {
   "cell_type": "markdown",
   "metadata": {},
   "source": [
    "# Auto-generation of Pyclesperanto Tiers from local file\n",
    "\n",
    "This Notebook, using the `gencle`, will fetch all the tiers file from a `CLIc` local repository, parse the doxygen blocks and generate both the wrapper and python code.\n",
    "The generated code can then be saved in a `pyclesperanto` local repository."
   ]
  },
  {
   "cell_type": "code",
   "execution_count": 2,
   "metadata": {},
   "outputs": [],
   "source": [
    "CLIc_path = '/data/clesperanto/CLIc_prototype'               # local path to CLIc\n",
    "pyclesperanto_path = '/data/clesperanto/pyclesperanto'       # local path to pyclesperanto"
   ]
  },
  {
   "cell_type": "markdown",
   "metadata": {},
   "source": [
    "### Search and read `tier*.hpp` files from `CLIc` folder"
   ]
  },
  {
   "cell_type": "code",
   "execution_count": 3,
   "metadata": {},
   "outputs": [
    {
     "name": "stdout",
     "output_type": "stream",
     "text": [
      "7 tiers found:\n",
      "/data/clesperanto/CLIc_prototype/clic/include/tier1.hpp\n",
      "/data/clesperanto/CLIc_prototype/clic/include/tier2.hpp\n",
      "/data/clesperanto/CLIc_prototype/clic/include/tier3.hpp\n",
      "/data/clesperanto/CLIc_prototype/clic/include/tier4.hpp\n",
      "/data/clesperanto/CLIc_prototype/clic/include/tier5.hpp\n",
      "/data/clesperanto/CLIc_prototype/clic/include/tier6.hpp\n",
      "/data/clesperanto/CLIc_prototype/clic/include/tier7.hpp\n",
      "7 tiers read\n"
     ]
    }
   ],
   "source": [
    "filepath = gen.list_tier_files(CLIc_path)\n",
    "print(f\"{len(filepath)} tiers found:\")\n",
    "for f in filepath:\n",
    "    print(f)\n",
    "tiers = [gen.read_file(path) for path in filepath]\n",
    "print(f\"{len(tiers)} tiers read\")"
   ]
  },
  {
   "cell_type": "markdown",
   "metadata": {},
   "source": [
    "### For each `tier`, extract the doxygen block and generate wrapper & python code"
   ]
  },
  {
   "cell_type": "code",
   "execution_count": 4,
   "metadata": {},
   "outputs": [
    {
     "name": "stdout",
     "output_type": "stream",
     "text": [
      "Generating tier 1\n",
      "Generating tier 2\n",
      "Generating tier 3\n",
      "Generating tier 4\n",
      "Generating tier 5\n",
      "Generating tier 6\n",
      "Generating tier 7\n"
     ]
    }
   ],
   "source": [
    "wrapper_folder = f'{pyclesperanto_path}/src/wrapper'\n",
    "python_folder = f'{pyclesperanto_path}/pyclesperanto'\n",
    "for file, tier in zip(filepath, tiers):\n",
    "    tier_number = int(re.search(r'tier(\\d+)\\.hpp', file).group(1))\n",
    "    print(f\"Generating tier {tier_number}\")\n",
    "    functions_json = gen.parse_doxygen_to_json(tier)\n",
    "    wrapper_code = gen.generate_wrapper_code(tier_number, functions_json)\n",
    "    python_code = gen.generate_python_code(tier_number, functions_json)\n",
    "    gen.write_file(f'{wrapper_folder}/tier{tier_number}_.cpp', wrapper_code, overwrite=True)\n",
    "    gen.write_file(f'{python_folder}/_tier{tier_number}.py', python_code, overwrite=True)"
   ]
  }
 ],
 "metadata": {
  "kernelspec": {
   "display_name": "parser",
   "language": "python",
   "name": "python3"
  },
  "language_info": {
   "codemirror_mode": {
    "name": "ipython",
    "version": 3
   },
   "file_extension": ".py",
   "mimetype": "text/x-python",
   "name": "python",
   "nbconvert_exporter": "python",
   "pygments_lexer": "ipython3",
   "version": "3.11.7"
  }
 },
 "nbformat": 4,
 "nbformat_minor": 2
}
